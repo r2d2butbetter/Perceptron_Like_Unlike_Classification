{
 "cells": [
  {
   "cell_type": "code",
   "execution_count": 68,
   "metadata": {},
   "outputs": [],
   "source": [
    "import numpy as np\n",
    "import pandas as pd\n",
    "import matplotlib.pyplot as plt\n",
    "from sklearn.preprocessing import LabelEncoder,MinMaxScaler, StandardScaler\n",
    "from sklearn.model_selection import train_test_split, ParameterGrid\n",
    "from sklearn.metrics import accuracy_score, confusion_matrix, mean_squared_error, log_loss\n",
    "import operator\n",
    "import json\n",
    "from IPython import display\n",
    "import os\n",
    "import warnings\n",
    "\n",
    "np.random.seed(0)\n",
    "warnings.filterwarnings(\"ignore\")\n",
    "THRESHOLD = 4"
   ]
  },
  {
   "cell_type": "markdown",
   "metadata": {},
   "source": [
    "Task: To predict whether the user likes the mobile phone or not. <br>\n",
    "Assumption: If the average rating of mobile >= threshold, then the user likes it, otherwise not."
   ]
  },
  {
   "cell_type": "markdown",
   "metadata": {},
   "source": [
    "<b>Missing values:</b><br>\n",
    "'Also Known As'(459),'Applications'(421),'Audio Features'(437),'Bezel-less display'(266),'Browser'(449),'Build Material'(338),'Co-Processor'(451),'Display Colour'(457),'Mobile High-Definition Link(MHL)'(472),'Music'(447)\n",
    "'Email','Fingerprint Sensor Position'(174),'Games'(446),'HDMI'(454),'Heart Rate Monitor'(467),'IRIS Scanner'(467),\n",
    "'Optical Image Stabilisation'(219),'Other Facilities'(444),'Phone Book'(444),'Physical Aperture'(87),'Quick Charging'(122),'Ring Tone'(444),'Ruggedness'(430),SAR Value(315),'SIM 3'(472),'SMS'(470)', 'Screen Protection'(229),'Screen to Body Ratio (claimed by the brand)'(428),'Sensor'(242),'Software Based Aperture'(473),\n",
    "'Special Features'(459),'Standby time'(334),'Stylus'(473),'TalkTime'(259), 'USB Type-C'(374),'Video Player'(456),\n",
    "'Video Recording Features'(458),'Waterproof'(398),'Wireless Charging','USB OTG Support'(159), 'Video ,'Recording'(113),'Java'(471),'Browser'(448)\n",
    "\n",
    "<b>Very low variance:</b><br>\n",
    "'Architecture'(most entries are 64-bit),'Audio Jack','GPS','Loudspeaker','Network','Network Support','Other Sensors'(28),'SIM Size', 'VoLTE'\n",
    "\n",
    "\n",
    "<b>Multivalued:</b><br>\n",
    "'Colours','Custom UI','Model'(1),'Other Sensors','Launch Date'\n",
    "\n",
    "<b>Not important:</b><br>\n",
    "'Bluetooth', 'Settings'(75),'Wi-Fi','Wi-Fi Features'\n",
    "\n",
    "<b>Doubtful:</b><br>\n",
    "'Aspect Ratio','Autofocus','Brand','Camera Features','Fingerprint Sensor'(very few entries are missing),\n",
    "'Fingerprint Sensor Position', 'Graphics'(multivalued),'Image resolution'(multivalued),'SIM Size','Sim Slot(s)', 'User Available Storage', 'SIM 1', 'SIM 2','Shooting Modes', 'Touch Screen'(24), 'USB Connectivity'\n",
    "    \n",
    "<b>To check:</b><br>\n",
    "'Display Type','Expandable Memory','FM Radio'\n",
    "\n",
    "<b>High Correlation with other features</b><br>\n",
    "'SIM Slot(s)' high correlation with SIM1\n",
    "'Weight' has high high correlation with capacity , screen-to-body ratio\n",
    "'Height' - screen size is also there\n",
    "    \n",
    "<b>Given a mobile, we can't directly get these features</b><br>\n",
    "'Rating Count', 'Review Count'\n",
    "\n",
    "<b>Keeping:</b><br>\n",
    "'Capacity','Flash'(17),'Height'(22),'Internal Memory'(20, require cleaning),'Operating System'(25, require cleaning), 'Pixel Density'(1, clean it),'Processor'(22, clean it), 'RAM'(17, clean), 'Rating','Resolution'(cleaning), 'Screen Resolution','Screen Size', 'Thickness'(22), 'Type','User Replaceable','Weight'(cleaning),'Sim Size'(), 'Other Sensors'(28), 'Screen to Body Ratio (calculated)','Width',\n"
   ]
  },
  {
   "cell_type": "code",
   "execution_count": 69,
   "metadata": {},
   "outputs": [
    {
     "name": "stdout",
     "output_type": "stream",
     "text": [
      "Number of data points in train: 355\n",
      "Number of features in train: 99\n",
      "Number of data points in test: 119\n",
      "Number of features in test: 98\n"
     ]
    }
   ],
   "source": [
    "# read data from file\n",
    "train = pd.read_csv(\"./data/train.csv\") \n",
    "test = pd.read_csv(\"./data/test.csv\")\n",
    "\n",
    "# check the number of features and data points in train\n",
    "print(\"Number of data points in train: %d\" % train.shape[0])\n",
    "print(\"Number of features in train: %d\" % train.shape[1])\n",
    "\n",
    "# check the number of features and data points in test\n",
    "print(\"Number of data points in test: %d\" % test.shape[0])\n",
    "print(\"Number of features in test: %d\" % test.shape[1])"
   ]
  },
  {
   "cell_type": "code",
   "execution_count": 70,
   "metadata": {},
   "outputs": [],
   "source": [
    "def data_clean(data):\n",
    "    \n",
    "    # Let's first remove all missing value features\n",
    "    columns_to_remove = ['Also Known As','Applications','Audio Features','Bezel-less display'\n",
    "                         'Browser','Build Material','Co-Processor','Browser'\n",
    "                         'Display Colour','Mobile High-Definition Link(MHL)',\n",
    "                         'Music', 'Email','Fingerprint Sensor Position',\n",
    "                         'Games','HDMI','Heart Rate Monitor','IRIS Scanner', \n",
    "                         'Optical Image Stabilisation','Other Facilities',\n",
    "                         'Phone Book','Physical Aperture','Quick Charging',\n",
    "                         'Ring Tone','Ruggedness','SAR Value','SIM 3','SMS',\n",
    "                         'Screen Protection','Screen to Body Ratio (claimed by the brand)',\n",
    "                         'Sensor','Software Based Aperture', 'Special Features',\n",
    "                         'Standby time','Stylus','TalkTime', 'USB Type-C',\n",
    "                         'Video Player', 'Video Recording Features','Waterproof',\n",
    "                         'Wireless Charging','USB OTG Support', 'Video Recording','Java']\n",
    "\n",
    "    columns_to_retain = list(set(data.columns)-set(columns_to_remove))\n",
    "    data = data[columns_to_retain]\n",
    "\n",
    "    #Features having very low variance \n",
    "    columns_to_remove = ['Architecture','Audio Jack','GPS','Loudspeaker','Network','Network Support','VoLTE']\n",
    "    columns_to_retain = list(set(data.columns)-set(columns_to_remove))\n",
    "    data = data[columns_to_retain]\n",
    "\n",
    "    # Multivalued:\n",
    "    columns_to_remove = ['Architecture','Launch Date','Audio Jack','GPS','Loudspeaker','Network','Network Support','VoLTE', 'Custom UI']\n",
    "    columns_to_retain = list(set(data.columns)-set(columns_to_remove))\n",
    "    data = data[columns_to_retain]\n",
    "\n",
    "    # Not much important\n",
    "    columns_to_remove = ['Bluetooth', 'Settings','Wi-Fi','Wi-Fi Features']\n",
    "    columns_to_retain = list(set(data.columns)-set(columns_to_remove))\n",
    "    data = data[columns_to_retain]\n",
    "    \n",
    "    return data"
   ]
  },
  {
   "cell_type": "markdown",
   "metadata": {},
   "source": [
    "# Removing features"
   ]
  },
  {
   "cell_type": "code",
   "execution_count": 71,
   "metadata": {},
   "outputs": [],
   "source": [
    "train = data_clean(train)\n",
    "test = data_clean(test)"
   ]
  },
  {
   "cell_type": "markdown",
   "metadata": {},
   "source": [
    "removing all those data points in which more than 15 features are missing "
   ]
  },
  {
   "cell_type": "code",
   "execution_count": 72,
   "metadata": {},
   "outputs": [],
   "source": [
    "train = train[(train.isnull().sum(axis=1) <= 15)]\n",
    "# You shouldn't remove data points from test set\n",
    "#test = test[(test.isnull().sum(axis=1) <= 15)]"
   ]
  },
  {
   "cell_type": "code",
   "execution_count": 73,
   "metadata": {},
   "outputs": [
    {
     "name": "stdout",
     "output_type": "stream",
     "text": [
      "Number of data points in train: 341\n",
      "Number of features in train: 47\n",
      "Number of data points in test: 119\n",
      "Number of features in test: 46\n"
     ]
    }
   ],
   "source": [
    "# check the number of features and data points in train\n",
    "print(\"Number of data points in train: %d\" % train.shape[0])\n",
    "print(\"Number of features in train: %d\" % train.shape[1])\n",
    "\n",
    "# check the number of features and data points in test\n",
    "print(\"Number of data points in test: %d\" % test.shape[0])\n",
    "print(\"Number of features in test: %d\" % test.shape[1])"
   ]
  },
  {
   "cell_type": "markdown",
   "metadata": {},
   "source": [
    "# Filling Missing values"
   ]
  },
  {
   "cell_type": "code",
   "execution_count": 74,
   "metadata": {},
   "outputs": [],
   "source": [
    "def for_integer(test):\n",
    "    try:\n",
    "        test = test.strip()\n",
    "        return int(test.split(' ')[0])\n",
    "    except IOError:\n",
    "           pass\n",
    "    except ValueError:\n",
    "        pass\n",
    "    except:\n",
    "        pass\n",
    "\n",
    "def for_string(test):\n",
    "    try:\n",
    "        test = test.strip()\n",
    "        return (test.split(' ')[0])\n",
    "    except IOError:\n",
    "        pass\n",
    "    except ValueError:\n",
    "        pass\n",
    "    except:\n",
    "        pass\n",
    "\n",
    "def for_float(test):\n",
    "    try:\n",
    "        test = test.strip()\n",
    "        return float(test.split(' ')[0])\n",
    "    except IOError:\n",
    "        pass\n",
    "    except ValueError:\n",
    "        pass\n",
    "    except:\n",
    "        pass\n",
    "def find_freq(test):\n",
    "    try:\n",
    "        test = test.strip()\n",
    "        test = test.split(' ')\n",
    "        if test[2][0] == '(':\n",
    "            return float(test[2][1:])\n",
    "        return float(test[2])\n",
    "    except IOError:\n",
    "        pass\n",
    "    except ValueError:\n",
    "        pass\n",
    "    except:\n",
    "        pass\n",
    "\n",
    "    \n",
    "def for_Internal_Memory(test):\n",
    "    try:\n",
    "        test = test.strip()\n",
    "        test = test.split(' ')\n",
    "        if test[1] == 'GB':\n",
    "            return int(test[0])\n",
    "        if test[1] == 'MB':\n",
    "#             print(\"here\")\n",
    "            return (int(test[0]) * 0.001)\n",
    "    except IOError:\n",
    "           pass\n",
    "    except ValueError:\n",
    "        pass\n",
    "    except:\n",
    "        pass\n",
    "    \n",
    "def find_freq(test):\n",
    "    try:\n",
    "        test = test.strip()\n",
    "        test = test.split(' ')\n",
    "        if test[2][0] == '(':\n",
    "            return float(test[2][1:])\n",
    "        return float(test[2])\n",
    "    except IOError:\n",
    "        pass\n",
    "    except ValueError:\n",
    "        pass\n",
    "    except:\n",
    "        pass\n"
   ]
  },
  {
   "cell_type": "code",
   "execution_count": 75,
   "metadata": {},
   "outputs": [],
   "source": [
    "def data_clean_2(x):\n",
    "    data = x.copy()\n",
    "    \n",
    "    data['Capacity'] = data['Capacity'].apply(for_integer)\n",
    "\n",
    "    data['Height'] = data['Height'].apply(for_float)\n",
    "    data['Height'] = data['Height'].fillna(data['Height'].mean())\n",
    "\n",
    "    data['Internal Memory'] = data['Internal Memory'].apply(for_Internal_Memory)\n",
    "\n",
    "    data['Pixel Density'] = data['Pixel Density'].apply(for_integer)\n",
    "\n",
    "    data['Internal Memory'] = data['Internal Memory'].fillna(data['Internal Memory'].median())\n",
    "    data['Internal Memory'] = data['Internal Memory'].astype(int)\n",
    "\n",
    "    data['RAM'] = data['RAM'].apply(for_integer)\n",
    "    data['RAM'] = data['RAM'].fillna(data['RAM'].median())\n",
    "    data['RAM'] = data['RAM'].astype(int)\n",
    "\n",
    "    data['Resolution'] = data['Resolution'].apply(for_integer)\n",
    "    data['Resolution'] = data['Resolution'].fillna(data['Resolution'].median())\n",
    "    data['Resolution'] = data['Resolution'].astype(int)\n",
    "\n",
    "    data['Screen Size'] = data['Screen Size'].apply(for_float)\n",
    "\n",
    "    data['Thickness'] = data['Thickness'].apply(for_float)\n",
    "    data['Thickness'] = data['Thickness'].fillna(data['Thickness'].mean())\n",
    "    data['Thickness'] = data['Thickness'].round(2)\n",
    "\n",
    "    data['Type'] = data['Type'].fillna('Li-Polymer')\n",
    "\n",
    "    data['Screen to Body Ratio (calculated)'] = data['Screen to Body Ratio (calculated)'].apply(for_float)\n",
    "    data['Screen to Body Ratio (calculated)'] = data['Screen to Body Ratio (calculated)'].fillna(data['Screen to Body Ratio (calculated)'].mean())\n",
    "    data['Screen to Body Ratio (calculated)'] = data['Screen to Body Ratio (calculated)'].round(2)\n",
    "\n",
    "    data['Width'] = data['Width'].apply(for_float)\n",
    "    data['Width'] = data['Width'].fillna(data['Width'].mean())\n",
    "    data['Width'] = data['Width'].round(2)\n",
    "\n",
    "    data['Flash'][data['Flash'].isna() == True] = \"Other\"\n",
    "\n",
    "    data['User Replaceable'][data['User Replaceable'].isna() == True] = \"Other\"\n",
    "\n",
    "    data['Num_cores'] = data['Processor'].apply(for_string)\n",
    "    data['Num_cores'][data['Num_cores'].isna() == True] = \"Other\"\n",
    "\n",
    "\n",
    "    data['Processor_frequency'] = data['Processor'].apply(find_freq)\n",
    "    #because there is one entry with 208MHz values, to convert it to GHz\n",
    "    data['Processor_frequency'][data['Processor_frequency'] > 200] = 0.208\n",
    "    data['Processor_frequency'] = data['Processor_frequency'].fillna(data['Processor_frequency'].mean())\n",
    "    data['Processor_frequency'] = data['Processor_frequency'].round(2)\n",
    "\n",
    "    data['Camera Features'][data['Camera Features'].isna() == True] = \"Other\"\n",
    "\n",
    "    #simplifyig Operating System to os_name for simplicity\n",
    "    data['os_name'] = data['Operating System'].apply(for_string)\n",
    "    data['os_name'][data['os_name'].isna() == True] = \"Other\"\n",
    "\n",
    "    data['Sim1'] = data['SIM 1'].apply(for_string)\n",
    "\n",
    "    data['SIM Size'][data['SIM Size'].isna() == True] = \"Other\"\n",
    "\n",
    "    data['Image Resolution'][data['Image Resolution'].isna() == True] = \"Other\"\n",
    "\n",
    "    data['Fingerprint Sensor'][data['Fingerprint Sensor'].isna() == True] = \"Other\"\n",
    "\n",
    "    data['Expandable Memory'][data['Expandable Memory'].isna() == True] = \"No\"\n",
    "\n",
    "    data['Weight'] = data['Weight'].apply(for_integer)\n",
    "    data['Weight'] = data['Weight'].fillna(data['Weight'].mean())\n",
    "    data['Weight'] = data['Weight'].astype(int)\n",
    "\n",
    "    data['SIM 2'] = data['SIM 2'].apply(for_string)\n",
    "    data['SIM 2'][data['SIM 2'].isna() == True] = \"Other\"\n",
    "    \n",
    "    return data"
   ]
  },
  {
   "cell_type": "code",
   "execution_count": 76,
   "metadata": {},
   "outputs": [
    {
     "name": "stdout",
     "output_type": "stream",
     "text": [
      "Number of data points in train: 341\n",
      "Number of features in train: 51\n",
      "Number of data points in test: 119\n",
      "Number of features in test: 50\n"
     ]
    }
   ],
   "source": [
    "train = data_clean_2(train)\n",
    "test = data_clean_2(test)\n",
    "\n",
    "# check the number of features and data points in train\n",
    "print(\"Number of data points in train: %d\" % train.shape[0])\n",
    "print(\"Number of features in train: %d\" % train.shape[1])\n",
    "\n",
    "# check the number of features and data points in test\n",
    "print(\"Number of data points in test: %d\" % test.shape[0])\n",
    "print(\"Number of features in test: %d\" % test.shape[1])"
   ]
  },
  {
   "cell_type": "markdown",
   "metadata": {},
   "source": [
    "Not very important feature"
   ]
  },
  {
   "cell_type": "code",
   "execution_count": 77,
   "metadata": {},
   "outputs": [],
   "source": [
    "def data_clean_3(x):\n",
    "    \n",
    "    data = x.copy()\n",
    "\n",
    "    columns_to_remove = ['User Available Storage','SIM Size','Chipset','Processor','Autofocus','Aspect Ratio','Touch Screen',\n",
    "                        'Bezel-less display','Operating System','SIM 1','USB Connectivity','Other Sensors','Graphics','FM Radio',\n",
    "                        'NFC','Shooting Modes','Browser','Display Colour' ]\n",
    "\n",
    "    columns_to_retain = list(set(data.columns)-set(columns_to_remove))\n",
    "    data = data[columns_to_retain]\n",
    "\n",
    "\n",
    "    columns_to_remove = [ 'Screen Resolution','User Replaceable','Camera Features',\n",
    "                        'Thickness', 'Display Type']\n",
    "\n",
    "    columns_to_retain = list(set(data.columns)-set(columns_to_remove))\n",
    "    data = data[columns_to_retain]\n",
    "\n",
    "\n",
    "    columns_to_remove = ['Fingerprint Sensor', 'Flash', 'Rating Count', 'Review Count','Image Resolution','Type','Expandable Memory',\\\n",
    "                        'Colours','Width','Model']\n",
    "    columns_to_retain = list(set(data.columns)-set(columns_to_remove))\n",
    "    data = data[columns_to_retain]\n",
    "\n",
    "    return data"
   ]
  },
  {
   "cell_type": "code",
   "execution_count": 78,
   "metadata": {},
   "outputs": [
    {
     "name": "stdout",
     "output_type": "stream",
     "text": [
      "Number of data points in train: 341\n",
      "Number of features in train: 18\n",
      "Number of data points in test: 119\n",
      "Number of features in test: 17\n"
     ]
    }
   ],
   "source": [
    "train = data_clean_3(train)\n",
    "test = data_clean_3(test)\n",
    "\n",
    "# check the number of features and data points in train\n",
    "print(\"Number of data points in train: %d\" % train.shape[0])\n",
    "print(\"Number of features in train: %d\" % train.shape[1])\n",
    "\n",
    "# check the number of features and data points in test\n",
    "print(\"Number of data points in test: %d\" % test.shape[0])\n",
    "print(\"Number of features in test: %d\" % test.shape[1])"
   ]
  },
  {
   "cell_type": "code",
   "execution_count": 79,
   "metadata": {},
   "outputs": [
    {
     "name": "stdout",
     "output_type": "stream",
     "text": [
      "(460, 17)\n",
      "Index(['PhoneId', 'Screen to Body Ratio (calculated)', 'SIM Slot(s)',\n",
      "       'os_name', 'Height', 'Capacity', 'RAM', 'Sim1', 'Weight',\n",
      "       'Processor_frequency', 'SIM 2', 'Pixel Density', 'Internal Memory',\n",
      "       'Screen Size', 'Resolution', 'Num_cores', 'Brand'],\n",
      "      dtype='object')\n",
      "(460, 87)\n",
      "Index(['PhoneId', 'Screen to Body Ratio (calculated)', 'Height', 'Capacity',\n",
      "       'RAM', 'Weight', 'Processor_frequency', 'Pixel Density',\n",
      "       'Internal Memory', 'Screen Size', 'Resolution',\n",
      "       'SIM Slot(s)_Dual SIM, GSM+CDMA', 'SIM Slot(s)_Dual SIM, GSM+GSM',\n",
      "       'SIM Slot(s)_Dual SIM, GSM+GSM, Dual VoLTE',\n",
      "       'SIM Slot(s)_Single SIM, GSM', 'os_name_Android', 'os_name_Blackberry',\n",
      "       'os_name_KAI', 'os_name_Nokia', 'os_name_Other', 'os_name_Tizen',\n",
      "       'os_name_iOS', 'Sim1_2G', 'Sim1_3G', 'Sim1_4G', 'SIM 2_2G', 'SIM 2_3G',\n",
      "       'SIM 2_4G', 'SIM 2_Other', 'Num_cores_312', 'Num_cores_Deca',\n",
      "       'Num_cores_Dual', 'Num_cores_Hexa', 'Num_cores_Octa', 'Num_cores_Other',\n",
      "       'Num_cores_Quad', 'Num_cores_Tru-Octa', 'Brand_10.or', 'Brand_Apple',\n",
      "       'Brand_Asus', 'Brand_Billion', 'Brand_Blackberry', 'Brand_Comio',\n",
      "       'Brand_Coolpad', 'Brand_Do', 'Brand_Gionee', 'Brand_Google',\n",
      "       'Brand_HTC', 'Brand_Honor', 'Brand_Huawei', 'Brand_InFocus',\n",
      "       'Brand_Infinix', 'Brand_Intex', 'Brand_Itel', 'Brand_Jivi',\n",
      "       'Brand_Karbonn', 'Brand_LG', 'Brand_Lava', 'Brand_LeEco',\n",
      "       'Brand_Lenovo', 'Brand_Lephone', 'Brand_Lyf', 'Brand_Meizu',\n",
      "       'Brand_Micromax', 'Brand_Mobiistar', 'Brand_Moto', 'Brand_Motorola',\n",
      "       'Brand_Nokia', 'Brand_Nubia', 'Brand_OPPO', 'Brand_OnePlus',\n",
      "       'Brand_Oppo', 'Brand_Panasonic', 'Brand_Razer', 'Brand_Realme',\n",
      "       'Brand_Reliance', 'Brand_Samsung', 'Brand_Sony', 'Brand_Spice',\n",
      "       'Brand_Tecno', 'Brand_Ulefone', 'Brand_VOTO', 'Brand_Vivo',\n",
      "       'Brand_Xiaomi', 'Brand_Xiaomi Poco', 'Brand_Yu', 'Brand_iVooMi'],\n",
      "      dtype='object')\n"
     ]
    }
   ],
   "source": [
    "# one hot encoding\n",
    "\n",
    "train_ids = train['PhoneId']\n",
    "test_ids = test['PhoneId']\n",
    "\n",
    "cols = list(test.columns)\n",
    "cols.remove('PhoneId')\n",
    "cols.insert(0, 'PhoneId')\n",
    "\n",
    "combined = pd.concat([train.drop('Rating', axis=1)[cols], test[cols]])\n",
    "print(combined.shape)\n",
    "print(combined.columns)\n",
    "\n",
    "combined = pd.get_dummies(combined)\n",
    "print(combined.shape)\n",
    "print(combined.columns)\n",
    "\n",
    "train_new = combined[combined['PhoneId'].isin(train_ids)]\n",
    "test_new = combined[combined['PhoneId'].isin(test_ids)]"
   ]
  },
  {
   "cell_type": "code",
   "execution_count": 80,
   "metadata": {},
   "outputs": [],
   "source": [
    "train_new = train_new.merge(train[['PhoneId', 'Rating']], on='PhoneId')"
   ]
  },
  {
   "cell_type": "code",
   "execution_count": 81,
   "metadata": {},
   "outputs": [
    {
     "name": "stdout",
     "output_type": "stream",
     "text": [
      "Number of data points in train: 341\n",
      "Number of features in train: 88\n",
      "Number of data points in test: 119\n",
      "Number of features in test: 87\n"
     ]
    }
   ],
   "source": [
    "# check the number of features and data points in train\n",
    "print(\"Number of data points in train: %d\" % train_new.shape[0])\n",
    "print(\"Number of features in train: %d\" % train_new.shape[1])\n",
    "\n",
    "# check the number of features and data points in test\n",
    "print(\"Number of data points in test: %d\" % test_new.shape[0])\n",
    "print(\"Number of features in test: %d\" % test_new.shape[1])"
   ]
  },
  {
   "cell_type": "code",
   "execution_count": 82,
   "metadata": {},
   "outputs": [
    {
     "data": {
      "application/vnd.microsoft.datawrangler.viewer.v0+json": {
       "columns": [
        {
         "name": "index",
         "rawType": "int64",
         "type": "integer"
        },
        {
         "name": "PhoneId",
         "rawType": "int64",
         "type": "integer"
        },
        {
         "name": "Screen to Body Ratio (calculated)",
         "rawType": "float64",
         "type": "float"
        },
        {
         "name": "Height",
         "rawType": "float64",
         "type": "float"
        },
        {
         "name": "Capacity",
         "rawType": "int64",
         "type": "integer"
        },
        {
         "name": "RAM",
         "rawType": "int64",
         "type": "integer"
        },
        {
         "name": "Weight",
         "rawType": "int64",
         "type": "integer"
        },
        {
         "name": "Processor_frequency",
         "rawType": "float64",
         "type": "float"
        },
        {
         "name": "Pixel Density",
         "rawType": "int64",
         "type": "integer"
        },
        {
         "name": "Internal Memory",
         "rawType": "int64",
         "type": "integer"
        },
        {
         "name": "Screen Size",
         "rawType": "float64",
         "type": "float"
        },
        {
         "name": "Resolution",
         "rawType": "int64",
         "type": "integer"
        },
        {
         "name": "SIM Slot(s)_Dual SIM, GSM+CDMA",
         "rawType": "bool",
         "type": "boolean"
        },
        {
         "name": "SIM Slot(s)_Dual SIM, GSM+GSM",
         "rawType": "bool",
         "type": "boolean"
        },
        {
         "name": "SIM Slot(s)_Dual SIM, GSM+GSM, Dual VoLTE",
         "rawType": "bool",
         "type": "boolean"
        },
        {
         "name": "SIM Slot(s)_Single SIM, GSM",
         "rawType": "bool",
         "type": "boolean"
        },
        {
         "name": "os_name_Android",
         "rawType": "bool",
         "type": "boolean"
        },
        {
         "name": "os_name_Blackberry",
         "rawType": "bool",
         "type": "boolean"
        },
        {
         "name": "os_name_KAI",
         "rawType": "bool",
         "type": "boolean"
        },
        {
         "name": "os_name_Nokia",
         "rawType": "bool",
         "type": "boolean"
        },
        {
         "name": "os_name_Other",
         "rawType": "bool",
         "type": "boolean"
        },
        {
         "name": "os_name_Tizen",
         "rawType": "bool",
         "type": "boolean"
        },
        {
         "name": "os_name_iOS",
         "rawType": "bool",
         "type": "boolean"
        },
        {
         "name": "Sim1_2G",
         "rawType": "bool",
         "type": "boolean"
        },
        {
         "name": "Sim1_3G",
         "rawType": "bool",
         "type": "boolean"
        },
        {
         "name": "Sim1_4G",
         "rawType": "bool",
         "type": "boolean"
        },
        {
         "name": "SIM 2_2G",
         "rawType": "bool",
         "type": "boolean"
        },
        {
         "name": "SIM 2_3G",
         "rawType": "bool",
         "type": "boolean"
        },
        {
         "name": "SIM 2_4G",
         "rawType": "bool",
         "type": "boolean"
        },
        {
         "name": "SIM 2_Other",
         "rawType": "bool",
         "type": "boolean"
        },
        {
         "name": "Num_cores_312",
         "rawType": "bool",
         "type": "boolean"
        },
        {
         "name": "Num_cores_Deca",
         "rawType": "bool",
         "type": "boolean"
        },
        {
         "name": "Num_cores_Dual",
         "rawType": "bool",
         "type": "boolean"
        },
        {
         "name": "Num_cores_Hexa",
         "rawType": "bool",
         "type": "boolean"
        },
        {
         "name": "Num_cores_Octa",
         "rawType": "bool",
         "type": "boolean"
        },
        {
         "name": "Num_cores_Other",
         "rawType": "bool",
         "type": "boolean"
        },
        {
         "name": "Num_cores_Quad",
         "rawType": "bool",
         "type": "boolean"
        },
        {
         "name": "Num_cores_Tru-Octa",
         "rawType": "bool",
         "type": "boolean"
        },
        {
         "name": "Brand_10.or",
         "rawType": "bool",
         "type": "boolean"
        },
        {
         "name": "Brand_Apple",
         "rawType": "bool",
         "type": "boolean"
        },
        {
         "name": "Brand_Asus",
         "rawType": "bool",
         "type": "boolean"
        },
        {
         "name": "Brand_Billion",
         "rawType": "bool",
         "type": "boolean"
        },
        {
         "name": "Brand_Blackberry",
         "rawType": "bool",
         "type": "boolean"
        },
        {
         "name": "Brand_Comio",
         "rawType": "bool",
         "type": "boolean"
        },
        {
         "name": "Brand_Coolpad",
         "rawType": "bool",
         "type": "boolean"
        },
        {
         "name": "Brand_Do",
         "rawType": "bool",
         "type": "boolean"
        },
        {
         "name": "Brand_Gionee",
         "rawType": "bool",
         "type": "boolean"
        },
        {
         "name": "Brand_Google",
         "rawType": "bool",
         "type": "boolean"
        },
        {
         "name": "Brand_HTC",
         "rawType": "bool",
         "type": "boolean"
        },
        {
         "name": "Brand_Honor",
         "rawType": "bool",
         "type": "boolean"
        },
        {
         "name": "Brand_Huawei",
         "rawType": "bool",
         "type": "boolean"
        },
        {
         "name": "Brand_InFocus",
         "rawType": "bool",
         "type": "boolean"
        },
        {
         "name": "Brand_Infinix",
         "rawType": "bool",
         "type": "boolean"
        },
        {
         "name": "Brand_Intex",
         "rawType": "bool",
         "type": "boolean"
        },
        {
         "name": "Brand_Itel",
         "rawType": "bool",
         "type": "boolean"
        },
        {
         "name": "Brand_Jivi",
         "rawType": "bool",
         "type": "boolean"
        },
        {
         "name": "Brand_Karbonn",
         "rawType": "bool",
         "type": "boolean"
        },
        {
         "name": "Brand_LG",
         "rawType": "bool",
         "type": "boolean"
        },
        {
         "name": "Brand_Lava",
         "rawType": "bool",
         "type": "boolean"
        },
        {
         "name": "Brand_LeEco",
         "rawType": "bool",
         "type": "boolean"
        },
        {
         "name": "Brand_Lenovo",
         "rawType": "bool",
         "type": "boolean"
        },
        {
         "name": "Brand_Lephone",
         "rawType": "bool",
         "type": "boolean"
        },
        {
         "name": "Brand_Lyf",
         "rawType": "bool",
         "type": "boolean"
        },
        {
         "name": "Brand_Meizu",
         "rawType": "bool",
         "type": "boolean"
        },
        {
         "name": "Brand_Micromax",
         "rawType": "bool",
         "type": "boolean"
        },
        {
         "name": "Brand_Mobiistar",
         "rawType": "bool",
         "type": "boolean"
        },
        {
         "name": "Brand_Moto",
         "rawType": "bool",
         "type": "boolean"
        },
        {
         "name": "Brand_Motorola",
         "rawType": "bool",
         "type": "boolean"
        },
        {
         "name": "Brand_Nokia",
         "rawType": "bool",
         "type": "boolean"
        },
        {
         "name": "Brand_Nubia",
         "rawType": "bool",
         "type": "boolean"
        },
        {
         "name": "Brand_OPPO",
         "rawType": "bool",
         "type": "boolean"
        },
        {
         "name": "Brand_OnePlus",
         "rawType": "bool",
         "type": "boolean"
        },
        {
         "name": "Brand_Oppo",
         "rawType": "bool",
         "type": "boolean"
        },
        {
         "name": "Brand_Panasonic",
         "rawType": "bool",
         "type": "boolean"
        },
        {
         "name": "Brand_Razer",
         "rawType": "bool",
         "type": "boolean"
        },
        {
         "name": "Brand_Realme",
         "rawType": "bool",
         "type": "boolean"
        },
        {
         "name": "Brand_Reliance",
         "rawType": "bool",
         "type": "boolean"
        },
        {
         "name": "Brand_Samsung",
         "rawType": "bool",
         "type": "boolean"
        },
        {
         "name": "Brand_Sony",
         "rawType": "bool",
         "type": "boolean"
        },
        {
         "name": "Brand_Spice",
         "rawType": "bool",
         "type": "boolean"
        },
        {
         "name": "Brand_Tecno",
         "rawType": "bool",
         "type": "boolean"
        },
        {
         "name": "Brand_Ulefone",
         "rawType": "bool",
         "type": "boolean"
        },
        {
         "name": "Brand_VOTO",
         "rawType": "bool",
         "type": "boolean"
        },
        {
         "name": "Brand_Vivo",
         "rawType": "bool",
         "type": "boolean"
        },
        {
         "name": "Brand_Xiaomi",
         "rawType": "bool",
         "type": "boolean"
        },
        {
         "name": "Brand_Xiaomi Poco",
         "rawType": "bool",
         "type": "boolean"
        },
        {
         "name": "Brand_Yu",
         "rawType": "bool",
         "type": "boolean"
        },
        {
         "name": "Brand_iVooMi",
         "rawType": "bool",
         "type": "boolean"
        },
        {
         "name": "Rating",
         "rawType": "float64",
         "type": "float"
        }
       ],
       "ref": "775540a8-a365-41f7-943c-918f4f18f8bb",
       "rows": [
        [
         "0",
         "0",
         "80.68",
         "157.9",
         "4000",
         "4",
         "182",
         "1.8",
         "403",
         "64",
         "6.26",
         "20",
         "False",
         "False",
         "True",
         "False",
         "True",
         "False",
         "False",
         "False",
         "False",
         "False",
         "False",
         "False",
         "False",
         "True",
         "False",
         "False",
         "True",
         "False",
         "False",
         "False",
         "False",
         "False",
         "True",
         "False",
         "False",
         "False",
         "False",
         "False",
         "False",
         "False",
         "False",
         "False",
         "False",
         "False",
         "False",
         "False",
         "False",
         "False",
         "False",
         "False",
         "False",
         "False",
         "False",
         "False",
         "False",
         "False",
         "False",
         "False",
         "False",
         "False",
         "False",
         "False",
         "False",
         "False",
         "False",
         "False",
         "False",
         "False",
         "False",
         "False",
         "False",
         "False",
         "False",
         "False",
         "False",
         "False",
         "False",
         "False",
         "False",
         "False",
         "False",
         "False",
         "True",
         "False",
         "False",
         "False",
         "4.5"
        ],
        [
         "1",
         "1",
         "80.85",
         "156.2",
         "4230",
         "3",
         "168",
         "1.8",
         "271",
         "32",
         "6.2",
         "8",
         "False",
         "False",
         "True",
         "False",
         "True",
         "False",
         "False",
         "False",
         "False",
         "False",
         "False",
         "False",
         "False",
         "True",
         "False",
         "False",
         "True",
         "False",
         "False",
         "False",
         "False",
         "False",
         "True",
         "False",
         "False",
         "False",
         "False",
         "False",
         "False",
         "False",
         "False",
         "False",
         "False",
         "False",
         "False",
         "False",
         "False",
         "False",
         "False",
         "False",
         "False",
         "False",
         "False",
         "False",
         "False",
         "False",
         "False",
         "False",
         "False",
         "False",
         "False",
         "False",
         "False",
         "False",
         "False",
         "False",
         "False",
         "False",
         "False",
         "False",
         "False",
         "False",
         "False",
         "True",
         "False",
         "False",
         "False",
         "False",
         "False",
         "False",
         "False",
         "False",
         "False",
         "False",
         "False",
         "False",
         "4.5"
        ],
        [
         "2",
         "2",
         "83.68",
         "157.0",
         "3500",
         "3",
         "168",
         "2.1",
         "409",
         "32",
         "6.3",
         "25",
         "False",
         "False",
         "True",
         "False",
         "True",
         "False",
         "False",
         "False",
         "False",
         "False",
         "False",
         "False",
         "False",
         "True",
         "False",
         "False",
         "True",
         "False",
         "False",
         "False",
         "False",
         "False",
         "True",
         "False",
         "False",
         "False",
         "False",
         "False",
         "False",
         "False",
         "False",
         "False",
         "False",
         "False",
         "False",
         "False",
         "False",
         "False",
         "False",
         "False",
         "False",
         "False",
         "False",
         "False",
         "False",
         "False",
         "False",
         "False",
         "False",
         "False",
         "False",
         "False",
         "False",
         "False",
         "False",
         "False",
         "False",
         "False",
         "False",
         "False",
         "False",
         "False",
         "False",
         "True",
         "False",
         "False",
         "False",
         "False",
         "False",
         "False",
         "False",
         "False",
         "False",
         "False",
         "False",
         "False",
         "4.4"
        ],
        [
         "3",
         "4",
         "74.78",
         "159.8",
         "3300",
         "4",
         "169",
         "2.2",
         "411",
         "64",
         "6.0",
         "24",
         "False",
         "True",
         "False",
         "False",
         "True",
         "False",
         "False",
         "False",
         "False",
         "False",
         "False",
         "False",
         "False",
         "True",
         "False",
         "False",
         "True",
         "False",
         "False",
         "False",
         "False",
         "False",
         "True",
         "False",
         "False",
         "False",
         "False",
         "False",
         "False",
         "False",
         "False",
         "False",
         "False",
         "False",
         "False",
         "False",
         "False",
         "False",
         "False",
         "False",
         "False",
         "False",
         "False",
         "False",
         "False",
         "False",
         "False",
         "False",
         "False",
         "False",
         "False",
         "False",
         "False",
         "False",
         "False",
         "False",
         "False",
         "False",
         "False",
         "False",
         "False",
         "False",
         "False",
         "False",
         "False",
         "True",
         "False",
         "False",
         "False",
         "False",
         "False",
         "False",
         "False",
         "False",
         "False",
         "False",
         "4.3"
        ],
        [
         "4",
         "5",
         "84.23",
         "160.4",
         "3750",
         "4",
         "175",
         "2.2",
         "396",
         "64",
         "6.5",
         "16",
         "False",
         "False",
         "True",
         "False",
         "True",
         "False",
         "False",
         "False",
         "False",
         "False",
         "False",
         "False",
         "False",
         "True",
         "False",
         "False",
         "True",
         "False",
         "False",
         "False",
         "False",
         "False",
         "True",
         "False",
         "False",
         "False",
         "False",
         "False",
         "False",
         "False",
         "False",
         "False",
         "False",
         "False",
         "False",
         "False",
         "False",
         "True",
         "False",
         "False",
         "False",
         "False",
         "False",
         "False",
         "False",
         "False",
         "False",
         "False",
         "False",
         "False",
         "False",
         "False",
         "False",
         "False",
         "False",
         "False",
         "False",
         "False",
         "False",
         "False",
         "False",
         "False",
         "False",
         "False",
         "False",
         "False",
         "False",
         "False",
         "False",
         "False",
         "False",
         "False",
         "False",
         "False",
         "False",
         "False",
         "4.4"
        ]
       ],
       "shape": {
        "columns": 88,
        "rows": 5
       }
      },
      "text/html": [
       "<div>\n",
       "<style scoped>\n",
       "    .dataframe tbody tr th:only-of-type {\n",
       "        vertical-align: middle;\n",
       "    }\n",
       "\n",
       "    .dataframe tbody tr th {\n",
       "        vertical-align: top;\n",
       "    }\n",
       "\n",
       "    .dataframe thead th {\n",
       "        text-align: right;\n",
       "    }\n",
       "</style>\n",
       "<table border=\"1\" class=\"dataframe\">\n",
       "  <thead>\n",
       "    <tr style=\"text-align: right;\">\n",
       "      <th></th>\n",
       "      <th>PhoneId</th>\n",
       "      <th>Screen to Body Ratio (calculated)</th>\n",
       "      <th>Height</th>\n",
       "      <th>Capacity</th>\n",
       "      <th>RAM</th>\n",
       "      <th>Weight</th>\n",
       "      <th>Processor_frequency</th>\n",
       "      <th>Pixel Density</th>\n",
       "      <th>Internal Memory</th>\n",
       "      <th>Screen Size</th>\n",
       "      <th>...</th>\n",
       "      <th>Brand_Spice</th>\n",
       "      <th>Brand_Tecno</th>\n",
       "      <th>Brand_Ulefone</th>\n",
       "      <th>Brand_VOTO</th>\n",
       "      <th>Brand_Vivo</th>\n",
       "      <th>Brand_Xiaomi</th>\n",
       "      <th>Brand_Xiaomi Poco</th>\n",
       "      <th>Brand_Yu</th>\n",
       "      <th>Brand_iVooMi</th>\n",
       "      <th>Rating</th>\n",
       "    </tr>\n",
       "  </thead>\n",
       "  <tbody>\n",
       "    <tr>\n",
       "      <th>0</th>\n",
       "      <td>0</td>\n",
       "      <td>80.68</td>\n",
       "      <td>157.9</td>\n",
       "      <td>4000</td>\n",
       "      <td>4</td>\n",
       "      <td>182</td>\n",
       "      <td>1.8</td>\n",
       "      <td>403</td>\n",
       "      <td>64</td>\n",
       "      <td>6.26</td>\n",
       "      <td>...</td>\n",
       "      <td>False</td>\n",
       "      <td>False</td>\n",
       "      <td>False</td>\n",
       "      <td>False</td>\n",
       "      <td>False</td>\n",
       "      <td>True</td>\n",
       "      <td>False</td>\n",
       "      <td>False</td>\n",
       "      <td>False</td>\n",
       "      <td>4.5</td>\n",
       "    </tr>\n",
       "    <tr>\n",
       "      <th>1</th>\n",
       "      <td>1</td>\n",
       "      <td>80.85</td>\n",
       "      <td>156.2</td>\n",
       "      <td>4230</td>\n",
       "      <td>3</td>\n",
       "      <td>168</td>\n",
       "      <td>1.8</td>\n",
       "      <td>271</td>\n",
       "      <td>32</td>\n",
       "      <td>6.20</td>\n",
       "      <td>...</td>\n",
       "      <td>False</td>\n",
       "      <td>False</td>\n",
       "      <td>False</td>\n",
       "      <td>False</td>\n",
       "      <td>False</td>\n",
       "      <td>False</td>\n",
       "      <td>False</td>\n",
       "      <td>False</td>\n",
       "      <td>False</td>\n",
       "      <td>4.5</td>\n",
       "    </tr>\n",
       "    <tr>\n",
       "      <th>2</th>\n",
       "      <td>2</td>\n",
       "      <td>83.68</td>\n",
       "      <td>157.0</td>\n",
       "      <td>3500</td>\n",
       "      <td>3</td>\n",
       "      <td>168</td>\n",
       "      <td>2.1</td>\n",
       "      <td>409</td>\n",
       "      <td>32</td>\n",
       "      <td>6.30</td>\n",
       "      <td>...</td>\n",
       "      <td>False</td>\n",
       "      <td>False</td>\n",
       "      <td>False</td>\n",
       "      <td>False</td>\n",
       "      <td>False</td>\n",
       "      <td>False</td>\n",
       "      <td>False</td>\n",
       "      <td>False</td>\n",
       "      <td>False</td>\n",
       "      <td>4.4</td>\n",
       "    </tr>\n",
       "    <tr>\n",
       "      <th>3</th>\n",
       "      <td>4</td>\n",
       "      <td>74.78</td>\n",
       "      <td>159.8</td>\n",
       "      <td>3300</td>\n",
       "      <td>4</td>\n",
       "      <td>169</td>\n",
       "      <td>2.2</td>\n",
       "      <td>411</td>\n",
       "      <td>64</td>\n",
       "      <td>6.00</td>\n",
       "      <td>...</td>\n",
       "      <td>False</td>\n",
       "      <td>False</td>\n",
       "      <td>False</td>\n",
       "      <td>False</td>\n",
       "      <td>False</td>\n",
       "      <td>False</td>\n",
       "      <td>False</td>\n",
       "      <td>False</td>\n",
       "      <td>False</td>\n",
       "      <td>4.3</td>\n",
       "    </tr>\n",
       "    <tr>\n",
       "      <th>4</th>\n",
       "      <td>5</td>\n",
       "      <td>84.23</td>\n",
       "      <td>160.4</td>\n",
       "      <td>3750</td>\n",
       "      <td>4</td>\n",
       "      <td>175</td>\n",
       "      <td>2.2</td>\n",
       "      <td>396</td>\n",
       "      <td>64</td>\n",
       "      <td>6.50</td>\n",
       "      <td>...</td>\n",
       "      <td>False</td>\n",
       "      <td>False</td>\n",
       "      <td>False</td>\n",
       "      <td>False</td>\n",
       "      <td>False</td>\n",
       "      <td>False</td>\n",
       "      <td>False</td>\n",
       "      <td>False</td>\n",
       "      <td>False</td>\n",
       "      <td>4.4</td>\n",
       "    </tr>\n",
       "  </tbody>\n",
       "</table>\n",
       "<p>5 rows × 88 columns</p>\n",
       "</div>"
      ],
      "text/plain": [
       "   PhoneId  Screen to Body Ratio (calculated)  Height  Capacity  RAM  Weight  \\\n",
       "0        0                              80.68   157.9      4000    4     182   \n",
       "1        1                              80.85   156.2      4230    3     168   \n",
       "2        2                              83.68   157.0      3500    3     168   \n",
       "3        4                              74.78   159.8      3300    4     169   \n",
       "4        5                              84.23   160.4      3750    4     175   \n",
       "\n",
       "   Processor_frequency  Pixel Density  Internal Memory  Screen Size  ...  \\\n",
       "0                  1.8            403               64         6.26  ...   \n",
       "1                  1.8            271               32         6.20  ...   \n",
       "2                  2.1            409               32         6.30  ...   \n",
       "3                  2.2            411               64         6.00  ...   \n",
       "4                  2.2            396               64         6.50  ...   \n",
       "\n",
       "   Brand_Spice  Brand_Tecno  Brand_Ulefone  Brand_VOTO  Brand_Vivo  \\\n",
       "0        False        False          False       False       False   \n",
       "1        False        False          False       False       False   \n",
       "2        False        False          False       False       False   \n",
       "3        False        False          False       False       False   \n",
       "4        False        False          False       False       False   \n",
       "\n",
       "   Brand_Xiaomi  Brand_Xiaomi Poco  Brand_Yu  Brand_iVooMi  Rating  \n",
       "0          True              False     False         False     4.5  \n",
       "1         False              False     False         False     4.5  \n",
       "2         False              False     False         False     4.4  \n",
       "3         False              False     False         False     4.3  \n",
       "4         False              False     False         False     4.4  \n",
       "\n",
       "[5 rows x 88 columns]"
      ]
     },
     "execution_count": 82,
     "metadata": {},
     "output_type": "execute_result"
    }
   ],
   "source": [
    "train_new.head()"
   ]
  },
  {
   "cell_type": "code",
   "execution_count": 83,
   "metadata": {},
   "outputs": [
    {
     "data": {
      "application/vnd.microsoft.datawrangler.viewer.v0+json": {
       "columns": [
        {
         "name": "index",
         "rawType": "int64",
         "type": "integer"
        },
        {
         "name": "PhoneId",
         "rawType": "int64",
         "type": "integer"
        },
        {
         "name": "Screen to Body Ratio (calculated)",
         "rawType": "float64",
         "type": "float"
        },
        {
         "name": "Height",
         "rawType": "float64",
         "type": "float"
        },
        {
         "name": "Capacity",
         "rawType": "int64",
         "type": "integer"
        },
        {
         "name": "RAM",
         "rawType": "int64",
         "type": "integer"
        },
        {
         "name": "Weight",
         "rawType": "int64",
         "type": "integer"
        },
        {
         "name": "Processor_frequency",
         "rawType": "float64",
         "type": "float"
        },
        {
         "name": "Pixel Density",
         "rawType": "int64",
         "type": "integer"
        },
        {
         "name": "Internal Memory",
         "rawType": "int64",
         "type": "integer"
        },
        {
         "name": "Screen Size",
         "rawType": "float64",
         "type": "float"
        },
        {
         "name": "Resolution",
         "rawType": "int64",
         "type": "integer"
        },
        {
         "name": "SIM Slot(s)_Dual SIM, GSM+CDMA",
         "rawType": "bool",
         "type": "boolean"
        },
        {
         "name": "SIM Slot(s)_Dual SIM, GSM+GSM",
         "rawType": "bool",
         "type": "boolean"
        },
        {
         "name": "SIM Slot(s)_Dual SIM, GSM+GSM, Dual VoLTE",
         "rawType": "bool",
         "type": "boolean"
        },
        {
         "name": "SIM Slot(s)_Single SIM, GSM",
         "rawType": "bool",
         "type": "boolean"
        },
        {
         "name": "os_name_Android",
         "rawType": "bool",
         "type": "boolean"
        },
        {
         "name": "os_name_Blackberry",
         "rawType": "bool",
         "type": "boolean"
        },
        {
         "name": "os_name_KAI",
         "rawType": "bool",
         "type": "boolean"
        },
        {
         "name": "os_name_Nokia",
         "rawType": "bool",
         "type": "boolean"
        },
        {
         "name": "os_name_Other",
         "rawType": "bool",
         "type": "boolean"
        },
        {
         "name": "os_name_Tizen",
         "rawType": "bool",
         "type": "boolean"
        },
        {
         "name": "os_name_iOS",
         "rawType": "bool",
         "type": "boolean"
        },
        {
         "name": "Sim1_2G",
         "rawType": "bool",
         "type": "boolean"
        },
        {
         "name": "Sim1_3G",
         "rawType": "bool",
         "type": "boolean"
        },
        {
         "name": "Sim1_4G",
         "rawType": "bool",
         "type": "boolean"
        },
        {
         "name": "SIM 2_2G",
         "rawType": "bool",
         "type": "boolean"
        },
        {
         "name": "SIM 2_3G",
         "rawType": "bool",
         "type": "boolean"
        },
        {
         "name": "SIM 2_4G",
         "rawType": "bool",
         "type": "boolean"
        },
        {
         "name": "SIM 2_Other",
         "rawType": "bool",
         "type": "boolean"
        },
        {
         "name": "Num_cores_312",
         "rawType": "bool",
         "type": "boolean"
        },
        {
         "name": "Num_cores_Deca",
         "rawType": "bool",
         "type": "boolean"
        },
        {
         "name": "Num_cores_Dual",
         "rawType": "bool",
         "type": "boolean"
        },
        {
         "name": "Num_cores_Hexa",
         "rawType": "bool",
         "type": "boolean"
        },
        {
         "name": "Num_cores_Octa",
         "rawType": "bool",
         "type": "boolean"
        },
        {
         "name": "Num_cores_Other",
         "rawType": "bool",
         "type": "boolean"
        },
        {
         "name": "Num_cores_Quad",
         "rawType": "bool",
         "type": "boolean"
        },
        {
         "name": "Num_cores_Tru-Octa",
         "rawType": "bool",
         "type": "boolean"
        },
        {
         "name": "Brand_10.or",
         "rawType": "bool",
         "type": "boolean"
        },
        {
         "name": "Brand_Apple",
         "rawType": "bool",
         "type": "boolean"
        },
        {
         "name": "Brand_Asus",
         "rawType": "bool",
         "type": "boolean"
        },
        {
         "name": "Brand_Billion",
         "rawType": "bool",
         "type": "boolean"
        },
        {
         "name": "Brand_Blackberry",
         "rawType": "bool",
         "type": "boolean"
        },
        {
         "name": "Brand_Comio",
         "rawType": "bool",
         "type": "boolean"
        },
        {
         "name": "Brand_Coolpad",
         "rawType": "bool",
         "type": "boolean"
        },
        {
         "name": "Brand_Do",
         "rawType": "bool",
         "type": "boolean"
        },
        {
         "name": "Brand_Gionee",
         "rawType": "bool",
         "type": "boolean"
        },
        {
         "name": "Brand_Google",
         "rawType": "bool",
         "type": "boolean"
        },
        {
         "name": "Brand_HTC",
         "rawType": "bool",
         "type": "boolean"
        },
        {
         "name": "Brand_Honor",
         "rawType": "bool",
         "type": "boolean"
        },
        {
         "name": "Brand_Huawei",
         "rawType": "bool",
         "type": "boolean"
        },
        {
         "name": "Brand_InFocus",
         "rawType": "bool",
         "type": "boolean"
        },
        {
         "name": "Brand_Infinix",
         "rawType": "bool",
         "type": "boolean"
        },
        {
         "name": "Brand_Intex",
         "rawType": "bool",
         "type": "boolean"
        },
        {
         "name": "Brand_Itel",
         "rawType": "bool",
         "type": "boolean"
        },
        {
         "name": "Brand_Jivi",
         "rawType": "bool",
         "type": "boolean"
        },
        {
         "name": "Brand_Karbonn",
         "rawType": "bool",
         "type": "boolean"
        },
        {
         "name": "Brand_LG",
         "rawType": "bool",
         "type": "boolean"
        },
        {
         "name": "Brand_Lava",
         "rawType": "bool",
         "type": "boolean"
        },
        {
         "name": "Brand_LeEco",
         "rawType": "bool",
         "type": "boolean"
        },
        {
         "name": "Brand_Lenovo",
         "rawType": "bool",
         "type": "boolean"
        },
        {
         "name": "Brand_Lephone",
         "rawType": "bool",
         "type": "boolean"
        },
        {
         "name": "Brand_Lyf",
         "rawType": "bool",
         "type": "boolean"
        },
        {
         "name": "Brand_Meizu",
         "rawType": "bool",
         "type": "boolean"
        },
        {
         "name": "Brand_Micromax",
         "rawType": "bool",
         "type": "boolean"
        },
        {
         "name": "Brand_Mobiistar",
         "rawType": "bool",
         "type": "boolean"
        },
        {
         "name": "Brand_Moto",
         "rawType": "bool",
         "type": "boolean"
        },
        {
         "name": "Brand_Motorola",
         "rawType": "bool",
         "type": "boolean"
        },
        {
         "name": "Brand_Nokia",
         "rawType": "bool",
         "type": "boolean"
        },
        {
         "name": "Brand_Nubia",
         "rawType": "bool",
         "type": "boolean"
        },
        {
         "name": "Brand_OPPO",
         "rawType": "bool",
         "type": "boolean"
        },
        {
         "name": "Brand_OnePlus",
         "rawType": "bool",
         "type": "boolean"
        },
        {
         "name": "Brand_Oppo",
         "rawType": "bool",
         "type": "boolean"
        },
        {
         "name": "Brand_Panasonic",
         "rawType": "bool",
         "type": "boolean"
        },
        {
         "name": "Brand_Razer",
         "rawType": "bool",
         "type": "boolean"
        },
        {
         "name": "Brand_Realme",
         "rawType": "bool",
         "type": "boolean"
        },
        {
         "name": "Brand_Reliance",
         "rawType": "bool",
         "type": "boolean"
        },
        {
         "name": "Brand_Samsung",
         "rawType": "bool",
         "type": "boolean"
        },
        {
         "name": "Brand_Sony",
         "rawType": "bool",
         "type": "boolean"
        },
        {
         "name": "Brand_Spice",
         "rawType": "bool",
         "type": "boolean"
        },
        {
         "name": "Brand_Tecno",
         "rawType": "bool",
         "type": "boolean"
        },
        {
         "name": "Brand_Ulefone",
         "rawType": "bool",
         "type": "boolean"
        },
        {
         "name": "Brand_VOTO",
         "rawType": "bool",
         "type": "boolean"
        },
        {
         "name": "Brand_Vivo",
         "rawType": "bool",
         "type": "boolean"
        },
        {
         "name": "Brand_Xiaomi",
         "rawType": "bool",
         "type": "boolean"
        },
        {
         "name": "Brand_Xiaomi Poco",
         "rawType": "bool",
         "type": "boolean"
        },
        {
         "name": "Brand_Yu",
         "rawType": "bool",
         "type": "boolean"
        },
        {
         "name": "Brand_iVooMi",
         "rawType": "bool",
         "type": "boolean"
        }
       ],
       "ref": "ddfd9485-f7bc-45d7-b232-2c3a58875b3f",
       "rows": [
        [
         "0",
         "3",
         "80.85",
         "156.2",
         "4230",
         "2",
         "168",
         "1.8",
         "271",
         "16",
         "6.2",
         "5",
         "False",
         "False",
         "True",
         "False",
         "True",
         "False",
         "False",
         "False",
         "False",
         "False",
         "False",
         "False",
         "False",
         "True",
         "False",
         "False",
         "True",
         "False",
         "False",
         "False",
         "False",
         "False",
         "True",
         "False",
         "False",
         "False",
         "False",
         "False",
         "False",
         "False",
         "False",
         "False",
         "False",
         "False",
         "False",
         "False",
         "False",
         "False",
         "False",
         "False",
         "False",
         "False",
         "False",
         "False",
         "False",
         "False",
         "False",
         "False",
         "False",
         "False",
         "False",
         "False",
         "False",
         "False",
         "False",
         "False",
         "False",
         "False",
         "False",
         "False",
         "False",
         "False",
         "False",
         "True",
         "False",
         "False",
         "False",
         "False",
         "False",
         "False",
         "False",
         "False",
         "False",
         "False",
         "False",
         "False"
        ],
        [
         "1",
         "11",
         "81.6",
         "156.0",
         "5000",
         "4",
         "205",
         "1.8",
         "402",
         "64",
         "6.2",
         "12",
         "False",
         "False",
         "True",
         "False",
         "True",
         "False",
         "False",
         "False",
         "False",
         "False",
         "False",
         "False",
         "False",
         "True",
         "False",
         "False",
         "True",
         "False",
         "False",
         "False",
         "False",
         "False",
         "True",
         "False",
         "False",
         "False",
         "False",
         "False",
         "False",
         "False",
         "False",
         "False",
         "False",
         "False",
         "False",
         "False",
         "False",
         "False",
         "False",
         "False",
         "False",
         "False",
         "False",
         "False",
         "False",
         "False",
         "False",
         "False",
         "False",
         "False",
         "False",
         "False",
         "False",
         "False",
         "False",
         "True",
         "False",
         "False",
         "False",
         "False",
         "False",
         "False",
         "False",
         "False",
         "False",
         "False",
         "False",
         "False",
         "False",
         "False",
         "False",
         "False",
         "False",
         "False",
         "False",
         "False"
        ],
        [
         "2",
         "13",
         "83.84",
         "156.7",
         "3500",
         "6",
         "169",
         "2.0",
         "409",
         "64",
         "6.3",
         "25",
         "False",
         "False",
         "True",
         "False",
         "True",
         "False",
         "False",
         "False",
         "False",
         "False",
         "False",
         "False",
         "False",
         "True",
         "False",
         "False",
         "True",
         "False",
         "False",
         "False",
         "False",
         "False",
         "True",
         "False",
         "False",
         "False",
         "False",
         "False",
         "False",
         "False",
         "False",
         "False",
         "False",
         "False",
         "False",
         "False",
         "False",
         "False",
         "False",
         "False",
         "False",
         "False",
         "False",
         "False",
         "False",
         "False",
         "False",
         "False",
         "False",
         "False",
         "False",
         "False",
         "False",
         "False",
         "False",
         "False",
         "False",
         "False",
         "True",
         "False",
         "False",
         "False",
         "False",
         "False",
         "False",
         "False",
         "False",
         "False",
         "False",
         "False",
         "False",
         "False",
         "False",
         "False",
         "False",
         "False"
        ],
        [
         "3",
         "16",
         "83.84",
         "156.7",
         "3500",
         "4",
         "169",
         "2.0",
         "409",
         "64",
         "6.3",
         "16",
         "False",
         "False",
         "True",
         "False",
         "True",
         "False",
         "False",
         "False",
         "False",
         "False",
         "False",
         "False",
         "False",
         "True",
         "False",
         "False",
         "True",
         "False",
         "False",
         "False",
         "False",
         "False",
         "True",
         "False",
         "False",
         "False",
         "False",
         "False",
         "False",
         "False",
         "False",
         "False",
         "False",
         "False",
         "False",
         "False",
         "False",
         "False",
         "False",
         "False",
         "False",
         "False",
         "False",
         "False",
         "False",
         "False",
         "False",
         "False",
         "False",
         "False",
         "False",
         "False",
         "False",
         "False",
         "False",
         "False",
         "False",
         "False",
         "True",
         "False",
         "False",
         "False",
         "False",
         "False",
         "False",
         "False",
         "False",
         "False",
         "False",
         "False",
         "False",
         "False",
         "False",
         "False",
         "False",
         "False"
        ],
        [
         "4",
         "19",
         "77.43",
         "158.6",
         "4000",
         "4",
         "181",
         "1.8",
         "403",
         "64",
         "5.99",
         "20",
         "False",
         "False",
         "True",
         "False",
         "True",
         "False",
         "False",
         "False",
         "False",
         "False",
         "False",
         "False",
         "False",
         "True",
         "False",
         "False",
         "True",
         "False",
         "False",
         "False",
         "False",
         "False",
         "True",
         "False",
         "False",
         "False",
         "False",
         "False",
         "False",
         "False",
         "False",
         "False",
         "False",
         "False",
         "False",
         "False",
         "False",
         "False",
         "False",
         "False",
         "False",
         "False",
         "False",
         "False",
         "False",
         "False",
         "False",
         "False",
         "False",
         "False",
         "False",
         "False",
         "False",
         "False",
         "False",
         "False",
         "False",
         "False",
         "False",
         "False",
         "False",
         "False",
         "False",
         "False",
         "False",
         "False",
         "False",
         "False",
         "False",
         "False",
         "False",
         "False",
         "True",
         "False",
         "False",
         "False"
        ]
       ],
       "shape": {
        "columns": 87,
        "rows": 5
       }
      },
      "text/html": [
       "<div>\n",
       "<style scoped>\n",
       "    .dataframe tbody tr th:only-of-type {\n",
       "        vertical-align: middle;\n",
       "    }\n",
       "\n",
       "    .dataframe tbody tr th {\n",
       "        vertical-align: top;\n",
       "    }\n",
       "\n",
       "    .dataframe thead th {\n",
       "        text-align: right;\n",
       "    }\n",
       "</style>\n",
       "<table border=\"1\" class=\"dataframe\">\n",
       "  <thead>\n",
       "    <tr style=\"text-align: right;\">\n",
       "      <th></th>\n",
       "      <th>PhoneId</th>\n",
       "      <th>Screen to Body Ratio (calculated)</th>\n",
       "      <th>Height</th>\n",
       "      <th>Capacity</th>\n",
       "      <th>RAM</th>\n",
       "      <th>Weight</th>\n",
       "      <th>Processor_frequency</th>\n",
       "      <th>Pixel Density</th>\n",
       "      <th>Internal Memory</th>\n",
       "      <th>Screen Size</th>\n",
       "      <th>...</th>\n",
       "      <th>Brand_Sony</th>\n",
       "      <th>Brand_Spice</th>\n",
       "      <th>Brand_Tecno</th>\n",
       "      <th>Brand_Ulefone</th>\n",
       "      <th>Brand_VOTO</th>\n",
       "      <th>Brand_Vivo</th>\n",
       "      <th>Brand_Xiaomi</th>\n",
       "      <th>Brand_Xiaomi Poco</th>\n",
       "      <th>Brand_Yu</th>\n",
       "      <th>Brand_iVooMi</th>\n",
       "    </tr>\n",
       "  </thead>\n",
       "  <tbody>\n",
       "    <tr>\n",
       "      <th>0</th>\n",
       "      <td>3</td>\n",
       "      <td>80.85</td>\n",
       "      <td>156.2</td>\n",
       "      <td>4230</td>\n",
       "      <td>2</td>\n",
       "      <td>168</td>\n",
       "      <td>1.8</td>\n",
       "      <td>271</td>\n",
       "      <td>16</td>\n",
       "      <td>6.20</td>\n",
       "      <td>...</td>\n",
       "      <td>False</td>\n",
       "      <td>False</td>\n",
       "      <td>False</td>\n",
       "      <td>False</td>\n",
       "      <td>False</td>\n",
       "      <td>False</td>\n",
       "      <td>False</td>\n",
       "      <td>False</td>\n",
       "      <td>False</td>\n",
       "      <td>False</td>\n",
       "    </tr>\n",
       "    <tr>\n",
       "      <th>1</th>\n",
       "      <td>11</td>\n",
       "      <td>81.60</td>\n",
       "      <td>156.0</td>\n",
       "      <td>5000</td>\n",
       "      <td>4</td>\n",
       "      <td>205</td>\n",
       "      <td>1.8</td>\n",
       "      <td>402</td>\n",
       "      <td>64</td>\n",
       "      <td>6.20</td>\n",
       "      <td>...</td>\n",
       "      <td>False</td>\n",
       "      <td>False</td>\n",
       "      <td>False</td>\n",
       "      <td>False</td>\n",
       "      <td>False</td>\n",
       "      <td>False</td>\n",
       "      <td>False</td>\n",
       "      <td>False</td>\n",
       "      <td>False</td>\n",
       "      <td>False</td>\n",
       "    </tr>\n",
       "    <tr>\n",
       "      <th>2</th>\n",
       "      <td>13</td>\n",
       "      <td>83.84</td>\n",
       "      <td>156.7</td>\n",
       "      <td>3500</td>\n",
       "      <td>6</td>\n",
       "      <td>169</td>\n",
       "      <td>2.0</td>\n",
       "      <td>409</td>\n",
       "      <td>64</td>\n",
       "      <td>6.30</td>\n",
       "      <td>...</td>\n",
       "      <td>False</td>\n",
       "      <td>False</td>\n",
       "      <td>False</td>\n",
       "      <td>False</td>\n",
       "      <td>False</td>\n",
       "      <td>False</td>\n",
       "      <td>False</td>\n",
       "      <td>False</td>\n",
       "      <td>False</td>\n",
       "      <td>False</td>\n",
       "    </tr>\n",
       "    <tr>\n",
       "      <th>3</th>\n",
       "      <td>16</td>\n",
       "      <td>83.84</td>\n",
       "      <td>156.7</td>\n",
       "      <td>3500</td>\n",
       "      <td>4</td>\n",
       "      <td>169</td>\n",
       "      <td>2.0</td>\n",
       "      <td>409</td>\n",
       "      <td>64</td>\n",
       "      <td>6.30</td>\n",
       "      <td>...</td>\n",
       "      <td>False</td>\n",
       "      <td>False</td>\n",
       "      <td>False</td>\n",
       "      <td>False</td>\n",
       "      <td>False</td>\n",
       "      <td>False</td>\n",
       "      <td>False</td>\n",
       "      <td>False</td>\n",
       "      <td>False</td>\n",
       "      <td>False</td>\n",
       "    </tr>\n",
       "    <tr>\n",
       "      <th>4</th>\n",
       "      <td>19</td>\n",
       "      <td>77.43</td>\n",
       "      <td>158.6</td>\n",
       "      <td>4000</td>\n",
       "      <td>4</td>\n",
       "      <td>181</td>\n",
       "      <td>1.8</td>\n",
       "      <td>403</td>\n",
       "      <td>64</td>\n",
       "      <td>5.99</td>\n",
       "      <td>...</td>\n",
       "      <td>False</td>\n",
       "      <td>False</td>\n",
       "      <td>False</td>\n",
       "      <td>False</td>\n",
       "      <td>False</td>\n",
       "      <td>False</td>\n",
       "      <td>True</td>\n",
       "      <td>False</td>\n",
       "      <td>False</td>\n",
       "      <td>False</td>\n",
       "    </tr>\n",
       "  </tbody>\n",
       "</table>\n",
       "<p>5 rows × 87 columns</p>\n",
       "</div>"
      ],
      "text/plain": [
       "   PhoneId  Screen to Body Ratio (calculated)  Height  Capacity  RAM  Weight  \\\n",
       "0        3                              80.85   156.2      4230    2     168   \n",
       "1       11                              81.60   156.0      5000    4     205   \n",
       "2       13                              83.84   156.7      3500    6     169   \n",
       "3       16                              83.84   156.7      3500    4     169   \n",
       "4       19                              77.43   158.6      4000    4     181   \n",
       "\n",
       "   Processor_frequency  Pixel Density  Internal Memory  Screen Size  ...  \\\n",
       "0                  1.8            271               16         6.20  ...   \n",
       "1                  1.8            402               64         6.20  ...   \n",
       "2                  2.0            409               64         6.30  ...   \n",
       "3                  2.0            409               64         6.30  ...   \n",
       "4                  1.8            403               64         5.99  ...   \n",
       "\n",
       "   Brand_Sony  Brand_Spice  Brand_Tecno  Brand_Ulefone  Brand_VOTO  \\\n",
       "0       False        False        False          False       False   \n",
       "1       False        False        False          False       False   \n",
       "2       False        False        False          False       False   \n",
       "3       False        False        False          False       False   \n",
       "4       False        False        False          False       False   \n",
       "\n",
       "   Brand_Vivo  Brand_Xiaomi  Brand_Xiaomi Poco  Brand_Yu  Brand_iVooMi  \n",
       "0       False         False              False     False         False  \n",
       "1       False         False              False     False         False  \n",
       "2       False         False              False     False         False  \n",
       "3       False         False              False     False         False  \n",
       "4       False          True              False     False         False  \n",
       "\n",
       "[5 rows x 87 columns]"
      ]
     },
     "execution_count": 83,
     "metadata": {},
     "output_type": "execute_result"
    }
   ],
   "source": [
    "test_new.head()"
   ]
  },
  {
   "cell_type": "markdown",
   "metadata": {},
   "source": [
    "## Feature Engineering"
   ]
  },
  {
   "cell_type": "markdown",
   "metadata": {},
   "source": [
    "Now we focus on making all the features ready to feed into the model"
   ]
  },
  {
   "cell_type": "code",
   "execution_count": 84,
   "metadata": {},
   "outputs": [],
   "source": [
    "# Scale columns between 0 and 1\n",
    "new_min, new_max = 0, 1\n",
    "old_min, old_max = train_new['Internal Memory'].min(), train_new['Internal Memory'].max()\n",
    "train_new['Internal Memory'] = (train_new['Internal Memory'] - old_min) / (old_max - old_min) * (new_max - new_min) + new_min\n",
    "old_min, old_max = train_new['Resolution'].min(), train_new['Resolution'].max()\n",
    "train_new['Resolution'] = (train_new['Resolution'] - old_min) / (old_max - old_min) * (new_max - new_min) + new_min\n",
    "old_min, old_max = train_new['Height'].min(), train_new['Height'].max()\n",
    "train_new['Height'] = (train_new['Height'] - old_min) / (old_max - old_min) * (new_max - new_min) + new_min\n",
    "old_min, old_max = train_new['Screen Size'].min(), train_new['Screen Size'].max()\n",
    "train_new['Screen Size'] = (train_new['Screen Size'] - old_min) / (old_max - old_min) * (new_max - new_min) + new_min\n",
    "old_min, old_max = train_new['Capacity'].min(), train_new['Capacity'].max()\n",
    "train_new['Capacity'] = (train_new['Capacity'] - old_min) / (old_max - old_min) * (new_max - new_min) + new_min\n",
    "old_min, old_max = train_new['Weight'].min(), train_new['Weight'].max()\n",
    "train_new['Weight'] = (train_new['Weight'] - old_min) / (old_max - old_min) * (new_max - new_min) + new_min\n",
    "old_min, old_max = train_new['Pixel Density'].min(), train_new['Pixel Density'].max()\n",
    "train_new['Pixel Density'] = (train_new['Pixel Density'] - old_min) / (old_max - old_min) * (new_max - new_min) + new_min\n",
    "old_min, old_max = train_new['RAM'].min(), train_new['RAM'].max()\n",
    "train_new['RAM'] = (train_new['RAM'] - old_min) / (old_max - old_min) * (new_max - new_min) + new_min\n",
    "old_min, old_max = train_new['Processor_frequency'].min(), train_new['Processor_frequency'].max()\n",
    "train_new['Processor_frequency'] = (train_new['Processor_frequency'] - old_min) / (old_max - old_min) * (new_max - new_min) + new_min\n",
    "old_min, old_max = train_new['Screen to Body Ratio (calculated)'].min(), train_new['Screen to Body Ratio (calculated)'].max()\n",
    "train_new['Screen to Body Ratio (calculated)'] = (train_new['Screen to Body Ratio (calculated)'] - old_min) / (old_max - old_min) * (new_max - new_min) + new_min\n",
    "\n",
    "# Drop column: 'Rating'\\\n",
    "train_new[\"class\"]= train_new[\"Rating\"].map(lambda x: 1 if x>=THRESHOLD else 0)\n",
    "train_new = train_new.drop(columns=['Rating'])"
   ]
  },
  {
   "cell_type": "code",
   "execution_count": 85,
   "metadata": {},
   "outputs": [],
   "source": [
    "train_new_ids = train_new[\"PhoneId\"]\n",
    "test_new_ids = test_new[\"PhoneId\"]"
   ]
  },
  {
   "cell_type": "code",
   "execution_count": 86,
   "metadata": {},
   "outputs": [],
   "source": [
    "train_new.drop(\"PhoneId\", axis=1, inplace=True)\n",
    "test_new.drop(\"PhoneId\", axis=1, inplace=True)"
   ]
  },
  {
   "cell_type": "code",
   "execution_count": 87,
   "metadata": {},
   "outputs": [
    {
     "name": "stdout",
     "output_type": "stream",
     "text": [
      "(341, 87) (119, 86)\n"
     ]
    }
   ],
   "source": [
    "print(train_new.shape, test_new.shape)"
   ]
  },
  {
   "cell_type": "markdown",
   "metadata": {},
   "source": [
    "## Perceptron Model"
   ]
  },
  {
   "cell_type": "code",
   "execution_count": 104,
   "metadata": {},
   "outputs": [],
   "source": [
    "class Perceptron:\n",
    "    def __init__(self):\n",
    "        self.w = None\n",
    "        self.x = None\n",
    "\n",
    "    def model(self, x):\n",
    "        return 1 if (np.dot(self.w, x)) >= self.b else 0\n",
    "\n",
    "    def predict(self, X):\n",
    "        return np.array([self.model(x) for x in X])\n",
    "\n",
    "\n",
    "    def fit(self, X, Y, epochs = 1, lr=1):\n",
    "        self.w = np.ones(X.shape[1]) #initialize with all 1's\n",
    "        self.b = 0\n",
    "\n",
    "        wt_matrix = []\n",
    "\n",
    "        accuracy= {}\n",
    "        max_accuracy=0\n",
    "\n",
    "        for i in range(epochs):\n",
    "            for x, y in zip(X, Y):\n",
    "                y_pred = self.model(x)\n",
    "                if y==1 and y_pred ==0:\n",
    "                    self.w +=lr* x\n",
    "                    self.b +=lr* 1\n",
    "                if y==0 and y_pred==1:\n",
    "                    self.w -=lr* x\n",
    "                    self.b -=lr* 1\n",
    "                #no change when prediction is same as y_pred\n",
    "\n",
    "            wt_matrix.append(self.w)\n",
    "\n",
    "            accuracy[i] = accuracy_score(self.predict(X), Y)\n",
    "            if accuracy[i]>max_accuracy:\n",
    "                max_accuracy = accuracy[i]\n",
    "                chkptw= self.w\n",
    "                chkptb= self.b\n",
    "\n",
    "        self.w = chkptw\n",
    "        self.b = chkptb\n",
    "\n",
    "        print(\"Maximum accuracy: \", max_accuracy)\n",
    "        plt.plot(accuracy.values())\n",
    "        plt.ylim(0, 1)\n",
    "        plt.show\n",
    "\n",
    "        return np.array(wt_matrix)\n"
   ]
  },
  {
   "cell_type": "code",
   "execution_count": 105,
   "metadata": {},
   "outputs": [
    {
     "name": "stdout",
     "output_type": "stream",
     "text": [
      "Maximum accuracy:  0.8592375366568915\n"
     ]
    },
    {
     "data": {
      "text/plain": [
       "array([[1. , 1. , 1. , ..., 1. , 0.5, 0.5],\n",
       "       [1. , 1. , 1. , ..., 1. , 0.5, 0.5],\n",
       "       [1. , 1. , 1. , ..., 1. , 0.5, 0.5],\n",
       "       ...,\n",
       "       [1. , 1. , 1. , ..., 1. , 0.5, 0.5],\n",
       "       [1. , 1. , 1. , ..., 1. , 0.5, 0.5],\n",
       "       [1. , 1. , 1. , ..., 1. , 0.5, 0.5]], shape=(1500, 86))"
      ]
     },
     "execution_count": 105,
     "metadata": {},
     "output_type": "execute_result"
    },
    {
     "data": {
      "image/png": "[encoded data removed]",
      "text/plain": [
       "<Figure size 640x480 with 1 Axes>"
      ]
     },
     "metadata": {},
     "output_type": "display_data"
    }
   ],
   "source": [
    "perceptron = Perceptron()\n",
    "y_train = train_new[\"class\"]\n",
    "x_train = train_new.drop(\"class\", axis=1)\n",
    "\n",
    "x_train_values = x_train.values.astype(int)\n",
    "y_train_values = y_train.values\n",
    "\n",
    "perceptron.fit(x_train_values, y_train_values, 1500, 0.01)"
   ]
  },
  {
   "cell_type": "markdown",
   "metadata": {},
   "source": [
    "## Now that We have trained the model, we run it with the given test dataset and create the submission.csv file"
   ]
  },
  {
   "cell_type": "code",
   "execution_count": 106,
   "metadata": {},
   "outputs": [],
   "source": [
    "# Loaded variable 'test_new' from kernel state\n",
    "\n",
    "# Scale columns 'Screen to Body Ratio (calculated)', 'Height' and 8 other columns between 0 and 1\n",
    "new_min, new_max = 0, 1\n",
    "old_min, old_max = test_new['Screen to Body Ratio (calculated)'].min(), test_new['Screen to Body Ratio (calculated)'].max()\n",
    "test_new['Screen to Body Ratio (calculated)'] = (test_new['Screen to Body Ratio (calculated)'] - old_min) / (old_max - old_min) * (new_max - new_min) + new_min\n",
    "old_min, old_max = test_new['Height'].min(), test_new['Height'].max()\n",
    "test_new['Height'] = (test_new['Height'] - old_min) / (old_max - old_min) * (new_max - new_min) + new_min\n",
    "old_min, old_max = test_new['Capacity'].min(), test_new['Capacity'].max()\n",
    "test_new['Capacity'] = (test_new['Capacity'] - old_min) / (old_max - old_min) * (new_max - new_min) + new_min\n",
    "old_min, old_max = test_new['RAM'].min(), test_new['RAM'].max()\n",
    "test_new['RAM'] = (test_new['RAM'] - old_min) / (old_max - old_min) * (new_max - new_min) + new_min\n",
    "old_min, old_max = test_new['Weight'].min(), test_new['Weight'].max()\n",
    "test_new['Weight'] = (test_new['Weight'] - old_min) / (old_max - old_min) * (new_max - new_min) + new_min\n",
    "old_min, old_max = test_new['Processor_frequency'].min(), test_new['Processor_frequency'].max()\n",
    "test_new['Processor_frequency'] = (test_new['Processor_frequency'] - old_min) / (old_max - old_min) * (new_max - new_min) + new_min\n",
    "old_min, old_max = test_new['Pixel Density'].min(), test_new['Pixel Density'].max()\n",
    "test_new['Pixel Density'] = (test_new['Pixel Density'] - old_min) / (old_max - old_min) * (new_max - new_min) + new_min\n",
    "old_min, old_max = test_new['Internal Memory'].min(), test_new['Internal Memory'].max()\n",
    "test_new['Internal Memory'] = (test_new['Internal Memory'] - old_min) / (old_max - old_min) * (new_max - new_min) + new_min\n",
    "old_min, old_max = test_new['Screen Size'].min(), test_new['Screen Size'].max()\n",
    "test_new['Screen Size'] = (test_new['Screen Size'] - old_min) / (old_max - old_min) * (new_max - new_min) + new_min\n",
    "old_min, old_max = test_new['Resolution'].min(), test_new['Resolution'].max()\n",
    "test_new['Resolution'] = (test_new['Resolution'] - old_min) / (old_max - old_min) * (new_max - new_min) + new_min"
   ]
  },
  {
   "cell_type": "code",
   "execution_count": 108,
   "metadata": {},
   "outputs": [
    {
     "name": "stdout",
     "output_type": "stream",
     "text": [
      "Submission file created successfully!\n"
     ]
    }
   ],
   "source": [
    "x_test = test_new.values.astype(int)\n",
    "y_pred = perceptron.predict(x_test)\n",
    "\n",
    "# Create a DataFrame with the predictions\n",
    "submission = pd.DataFrame({\n",
    "    'PhoneId': test_new_ids,\n",
    "    'class': y_pred\n",
    "})\n",
    "\n",
    "# Save to CSV\n",
    "submission.to_csv('submission.csv', index=False)\n",
    "print(\"Submission file created successfully!\")"
   ]
  }
 ],
 "metadata": {
  "kernelspec": {
   "display_name": "mldl",
   "language": "python",
   "name": "python3"
  },
  "language_info": {
   "codemirror_mode": {
    "name": "ipython",
    "version": 3
   },
   "file_extension": ".py",
   "mimetype": "text/x-python",
   "name": "python",
   "nbconvert_exporter": "python",
   "pygments_lexer": "ipython3",
   "version": "3.13.2"
  }
 },
 "nbformat": 4,
 "nbformat_minor": 2
}
